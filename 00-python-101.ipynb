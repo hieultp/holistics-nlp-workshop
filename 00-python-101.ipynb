{
 "cells": [
  {
   "attachments": {},
   "cell_type": "markdown",
   "metadata": {},
   "source": [
    "<H1>Introduction to Python</H1>"
   ]
  },
  {
   "attachments": {},
   "cell_type": "markdown",
   "metadata": {},
   "source": [
    "[![image](https://colab.research.google.com/assets/colab-badge.svg)](https://colab.research.google.com/github/hieultp/holistics-nlp-workshop/blob/main/00-python-101.ipynb)\n",
    "\n",
    "**Source**:\n",
    "- https://jupyter.brynmawr.edu/services/public/dblank/CS245%20Programming%20Languages/2016-Fall/Labs/Chapter%2002%20-%20Introduction%20to%20Python.ipynb\n",
    "- https://notebook.community/acs/python-red/Classes-en"
   ]
  },
  {
   "cell_type": "markdown",
   "metadata": {},
   "source": [
    "# 1. Python"
   ]
  },
  {
   "attachments": {},
   "cell_type": "markdown",
   "metadata": {},
   "source": [
    "**Python Reference**:\n",
    "\n",
    "* https://docs.python.org/3.9/reference/"
   ]
  },
  {
   "cell_type": "markdown",
   "metadata": {},
   "source": [
    "## 1.1 Statements"
   ]
  },
  {
   "attachments": {},
   "cell_type": "markdown",
   "metadata": {},
   "source": [
    "Python is an [imperative language](https://en.wikipedia.org/wiki/Imperative_programming) based on [statements](https://en.wikipedia.org/wiki/Statement_(computer_science)). That is, programs in Python consists of lines composed of statements. A statement can be:\n",
    "\n",
    "* a single expression\n",
    "* an assignment\n",
    "* a function call\n",
    "* a function definition\n",
    "* a statement; statement"
   ]
  },
  {
   "cell_type": "markdown",
   "metadata": {},
   "source": [
    "### 1.1.1 Expressions"
   ]
  },
  {
   "cell_type": "markdown",
   "metadata": {},
   "source": [
    "* Numbers\n",
    "  * integers\n",
    "  * floating-point\n",
    "  * complex numbers\n",
    "* strings\n",
    "* boolean values\n",
    "* lists and dicts"
   ]
  },
  {
   "cell_type": "markdown",
   "metadata": {},
   "source": [
    "#### 1.1.1.1 Numbers"
   ]
  },
  {
   "cell_type": "code",
   "execution_count": 1,
   "metadata": {
    "collapsed": false
   },
   "outputs": [
    {
     "data": {
      "text/plain": [
       "1"
      ]
     },
     "execution_count": 1,
     "metadata": {},
     "output_type": "execute_result"
    }
   ],
   "source": [
    "1"
   ]
  },
  {
   "cell_type": "code",
   "execution_count": 2,
   "metadata": {
    "collapsed": true
   },
   "outputs": [
    {
     "data": {
      "text/plain": [
       "2"
      ]
     },
     "execution_count": 2,
     "metadata": {},
     "output_type": "execute_result"
    }
   ],
   "source": [
    "2"
   ]
  },
  {
   "cell_type": "code",
   "execution_count": 3,
   "metadata": {
    "collapsed": false
   },
   "outputs": [
    {
     "data": {
      "text/plain": [
       "-3"
      ]
     },
     "execution_count": 3,
     "metadata": {},
     "output_type": "execute_result"
    }
   ],
   "source": [
    "-3"
   ]
  },
  {
   "cell_type": "code",
   "execution_count": 4,
   "metadata": {
    "collapsed": false
   },
   "outputs": [
    {
     "data": {
      "text/plain": [
       "2"
      ]
     },
     "execution_count": 4,
     "metadata": {},
     "output_type": "execute_result"
    }
   ],
   "source": [
    "1\n",
    "2"
   ]
  },
  {
   "cell_type": "code",
   "execution_count": 5,
   "metadata": {
    "collapsed": false
   },
   "outputs": [
    {
     "data": {
      "text/plain": [
       "3.14"
      ]
     },
     "execution_count": 5,
     "metadata": {},
     "output_type": "execute_result"
    }
   ],
   "source": [
    "3.14"
   ]
  },
  {
   "cell_type": "markdown",
   "metadata": {},
   "source": [
    "#### 1.1.1.2 Strings"
   ]
  },
  {
   "cell_type": "code",
   "execution_count": 6,
   "metadata": {
    "collapsed": false
   },
   "outputs": [
    {
     "data": {
      "text/plain": [
       "'apple'"
      ]
     },
     "execution_count": 6,
     "metadata": {},
     "output_type": "execute_result"
    }
   ],
   "source": [
    "'apple'"
   ]
  },
  {
   "cell_type": "code",
   "execution_count": 7,
   "metadata": {
    "collapsed": false
   },
   "outputs": [
    {
     "data": {
      "text/plain": [
       "'apple'"
      ]
     },
     "execution_count": 7,
     "metadata": {},
     "output_type": "execute_result"
    }
   ],
   "source": [
    "\"apple\""
   ]
  },
  {
   "cell_type": "markdown",
   "metadata": {},
   "source": [
    "Notice that the Out might not match exactly the In. In the above example, we used double-quotes but the representation of the string used single-quotes. Python will default to showing representations of values using single-quotes, if it can."
   ]
  },
  {
   "cell_type": "markdown",
   "metadata": {},
   "source": [
    "#### 1.1.1.3 Boolean Values"
   ]
  },
  {
   "cell_type": "code",
   "execution_count": 8,
   "metadata": {
    "collapsed": false
   },
   "outputs": [
    {
     "data": {
      "text/plain": [
       "True"
      ]
     },
     "execution_count": 8,
     "metadata": {},
     "output_type": "execute_result"
    }
   ],
   "source": [
    "True"
   ]
  },
  {
   "cell_type": "code",
   "execution_count": 9,
   "metadata": {
    "collapsed": false
   },
   "outputs": [
    {
     "data": {
      "text/plain": [
       "False"
      ]
     },
     "execution_count": 9,
     "metadata": {},
     "output_type": "execute_result"
    }
   ],
   "source": [
    "False"
   ]
  },
  {
   "cell_type": "markdown",
   "metadata": {},
   "source": [
    "#### 1.1.1.4 Lists and Dicts"
   ]
  },
  {
   "cell_type": "markdown",
   "metadata": {},
   "source": [
    "Python has three very useful data structures built into the language:\n",
    "\n",
    "* dictionaries (hash tables): {}\n",
    "* lists: []\n",
    "* tuples: (item, ...)\n",
    "\n",
    "List is a mutable list of items. Tuple is a read-only data structure (immutable)."
   ]
  },
  {
   "cell_type": "code",
   "execution_count": 10,
   "metadata": {
    "collapsed": false
   },
   "outputs": [
    {
     "data": {
      "text/plain": [
       "[1, 2, 3]"
      ]
     },
     "execution_count": 10,
     "metadata": {},
     "output_type": "execute_result"
    }
   ],
   "source": [
    "[1, 2, 3]"
   ]
  },
  {
   "cell_type": "code",
   "execution_count": 11,
   "metadata": {
    "collapsed": false
   },
   "outputs": [
    {
     "data": {
      "text/plain": [
       "(1, 2, 3)"
      ]
     },
     "execution_count": 11,
     "metadata": {},
     "output_type": "execute_result"
    }
   ],
   "source": [
    "(1, 2, 3)"
   ]
  },
  {
   "cell_type": "code",
   "execution_count": 12,
   "metadata": {
    "collapsed": false
   },
   "outputs": [
    {
     "data": {
      "text/plain": [
       "(1, 2, 3)"
      ]
     },
     "execution_count": 12,
     "metadata": {},
     "output_type": "execute_result"
    }
   ],
   "source": [
    "1, 2, 3"
   ]
  },
  {
   "cell_type": "code",
   "execution_count": 13,
   "metadata": {
    "collapsed": true
   },
   "outputs": [
    {
     "data": {
      "text/plain": [
       "{'apple': 'a fruit', 'banana': 'an herb', 'monkey': 'a mammal'}"
      ]
     },
     "execution_count": 13,
     "metadata": {},
     "output_type": "execute_result"
    }
   ],
   "source": [
    "{\"apple\": \"a fruit\", \"banana\": \"an herb\", \"monkey\": \"a mammal\"}"
   ]
  },
  {
   "cell_type": "code",
   "execution_count": 14,
   "metadata": {
    "collapsed": false
   },
   "outputs": [
    {
     "data": {
      "text/plain": [
       "'a fruit'"
      ]
     },
     "execution_count": 14,
     "metadata": {},
     "output_type": "execute_result"
    }
   ],
   "source": [
    "{\"apple\": \"a fruit\", \"banana\": \"an herb\", \"monkey\": \"a mammal\"}[\"apple\"]"
   ]
  },
  {
   "cell_type": "markdown",
   "metadata": {},
   "source": [
    "### 1.1.2 Function Calls"
   ]
  },
  {
   "cell_type": "markdown",
   "metadata": {},
   "source": [
    "There are two ways to call functions in Python:\n",
    "\n",
    "1. by pre-defined infix operator name\n",
    "2. by function name, followed by parentheses\n",
    "\n",
    "Infix operator name:"
   ]
  },
  {
   "cell_type": "code",
   "execution_count": 15,
   "metadata": {
    "collapsed": false
   },
   "outputs": [
    {
     "data": {
      "text/plain": [
       "3"
      ]
     },
     "execution_count": 15,
     "metadata": {},
     "output_type": "execute_result"
    }
   ],
   "source": [
    "1 + 2"
   ]
  },
  {
   "cell_type": "code",
   "execution_count": 16,
   "metadata": {
    "collapsed": false
   },
   "outputs": [
    {
     "data": {
      "text/plain": [
       "1"
      ]
     },
     "execution_count": 16,
     "metadata": {},
     "output_type": "execute_result"
    }
   ],
   "source": [
    "abs(-1)"
   ]
  },
  {
   "cell_type": "code",
   "execution_count": 17,
   "metadata": {
    "collapsed": true
   },
   "outputs": [],
   "source": [
    "import operator"
   ]
  },
  {
   "cell_type": "code",
   "execution_count": 18,
   "metadata": {
    "collapsed": false
   },
   "outputs": [
    {
     "data": {
      "text/plain": [
       "3"
      ]
     },
     "execution_count": 18,
     "metadata": {},
     "output_type": "execute_result"
    }
   ],
   "source": [
    "operator.add(1, 2)"
   ]
  },
  {
   "cell_type": "markdown",
   "metadata": {},
   "source": [
    "#### 1.1.2.1 Print"
   ]
  },
  {
   "cell_type": "markdown",
   "metadata": {},
   "source": [
    "Evaluating and display result as an Out, versus evaluating and printing result (side-effect)."
   ]
  },
  {
   "cell_type": "code",
   "execution_count": 19,
   "metadata": {
    "collapsed": false
   },
   "outputs": [
    {
     "name": "stdout",
     "output_type": "stream",
     "text": [
      "1\n"
     ]
    }
   ],
   "source": [
    "print(1)"
   ]
  },
  {
   "cell_type": "markdown",
   "metadata": {},
   "source": [
    "### 1.1.3 Special Values"
   ]
  },
  {
   "cell_type": "code",
   "execution_count": 20,
   "metadata": {
    "collapsed": true
   },
   "outputs": [],
   "source": [
    "None"
   ]
  },
  {
   "cell_type": "markdown",
   "metadata": {},
   "source": [
    "### 1.1.4 Defining Functions"
   ]
  },
  {
   "cell_type": "code",
   "execution_count": 21,
   "metadata": {
    "collapsed": true
   },
   "outputs": [],
   "source": [
    "def plus(a, b):\n",
    "    return a + b"
   ]
  },
  {
   "cell_type": "code",
   "execution_count": 22,
   "metadata": {
    "collapsed": false
   },
   "outputs": [
    {
     "data": {
      "text/plain": [
       "7"
      ]
     },
     "execution_count": 22,
     "metadata": {},
     "output_type": "execute_result"
    }
   ],
   "source": [
    "plus(3, 4)"
   ]
  },
  {
   "cell_type": "code",
   "execution_count": 23,
   "metadata": {
    "collapsed": true
   },
   "outputs": [],
   "source": [
    "def plus(a, b):\n",
    "    a + b"
   ]
  },
  {
   "cell_type": "code",
   "execution_count": 24,
   "metadata": {
    "collapsed": true
   },
   "outputs": [],
   "source": [
    "plus(3, 4)"
   ]
  },
  {
   "cell_type": "markdown",
   "metadata": {},
   "source": [
    "What happened? All functions return *something*, even if you don't specify it. If you don't specify a return value, then it will default to returning `None`."
   ]
  },
  {
   "cell_type": "code",
   "execution_count": 25,
   "metadata": {
    "collapsed": false
   },
   "outputs": [],
   "source": [
    "# Uncomment the line below to see what happens ;)\n",
    "# \"a\" + 1"
   ]
  },
  {
   "cell_type": "markdown",
   "metadata": {},
   "source": [
    "## 1.2 Equality"
   ]
  },
  {
   "cell_type": "markdown",
   "metadata": {},
   "source": [
    "### 1.2.1 =="
   ]
  },
  {
   "cell_type": "code",
   "execution_count": 26,
   "metadata": {
    "collapsed": false
   },
   "outputs": [
    {
     "data": {
      "text/plain": [
       "True"
      ]
     },
     "execution_count": 26,
     "metadata": {},
     "output_type": "execute_result"
    }
   ],
   "source": [
    "1 == 1"
   ]
  },
  {
   "cell_type": "markdown",
   "metadata": {},
   "source": [
    "### 1.2.2 is"
   ]
  },
  {
   "cell_type": "code",
   "execution_count": 27,
   "metadata": {
    "collapsed": false
   },
   "outputs": [
    {
     "data": {
      "text/plain": [
       "False"
      ]
     },
     "execution_count": 27,
     "metadata": {},
     "output_type": "execute_result"
    }
   ],
   "source": [
    "[] is []"
   ]
  },
  {
   "cell_type": "code",
   "execution_count": 28,
   "metadata": {
    "collapsed": false
   },
   "outputs": [
    {
     "data": {
      "text/plain": [
       "False"
      ]
     },
     "execution_count": 28,
     "metadata": {},
     "output_type": "execute_result"
    }
   ],
   "source": [
    "list() is list()"
   ]
  },
  {
   "cell_type": "code",
   "execution_count": 29,
   "metadata": {
    "collapsed": false
   },
   "outputs": [
    {
     "data": {
      "text/plain": [
       "True"
      ]
     },
     "execution_count": 29,
     "metadata": {},
     "output_type": "execute_result"
    }
   ],
   "source": [
    "tuple() is tuple()"
   ]
  },
  {
   "cell_type": "code",
   "execution_count": 30,
   "metadata": {
    "collapsed": false
   },
   "outputs": [
    {
     "name": "stderr",
     "output_type": "stream",
     "text": [
      "<>:1: SyntaxWarning: \"is\" with a literal. Did you mean \"==\"?\n",
      "<>:1: SyntaxWarning: \"is\" with a literal. Did you mean \"==\"?\n",
      "/tmp/ipykernel_610259/4003206270.py:1: SyntaxWarning: \"is\" with a literal. Did you mean \"==\"?\n",
      "  57663463467 is 57663463467\n"
     ]
    },
    {
     "data": {
      "text/plain": [
       "True"
      ]
     },
     "execution_count": 30,
     "metadata": {},
     "output_type": "execute_result"
    }
   ],
   "source": [
    "57663463467 is 57663463467"
   ]
  },
  {
   "cell_type": "markdown",
   "metadata": {},
   "source": [
    "# 2. Advanced Topics"
   ]
  },
  {
   "cell_type": "markdown",
   "metadata": {},
   "source": [
    "The Zen of Python:"
   ]
  },
  {
   "cell_type": "code",
   "execution_count": 31,
   "metadata": {
    "collapsed": false
   },
   "outputs": [
    {
     "name": "stdout",
     "output_type": "stream",
     "text": [
      "The Zen of Python, by Tim Peters\n",
      "\n",
      "Beautiful is better than ugly.\n",
      "Explicit is better than implicit.\n",
      "Simple is better than complex.\n",
      "Complex is better than complicated.\n",
      "Flat is better than nested.\n",
      "Sparse is better than dense.\n",
      "Readability counts.\n",
      "Special cases aren't special enough to break the rules.\n",
      "Although practicality beats purity.\n",
      "Errors should never pass silently.\n",
      "Unless explicitly silenced.\n",
      "In the face of ambiguity, refuse the temptation to guess.\n",
      "There should be one-- and preferably only one --obvious way to do it.\n",
      "Although that way may not be obvious at first unless you're Dutch.\n",
      "Now is better than never.\n",
      "Although never is often better than *right* now.\n",
      "If the implementation is hard to explain, it's a bad idea.\n",
      "If the implementation is easy to explain, it may be a good idea.\n",
      "Namespaces are one honking great idea -- let's do more of those!\n"
     ]
    }
   ],
   "source": [
    "import this"
   ]
  },
  {
   "cell_type": "markdown",
   "metadata": {},
   "source": [
    "Python evolves. But there are limits:"
   ]
  },
  {
   "cell_type": "code",
   "execution_count": 32,
   "metadata": {
    "collapsed": false
   },
   "outputs": [],
   "source": [
    "# Uncomment the line below to see what happens ;)\n",
    "# from __future__ import braces"
   ]
  },
  {
   "cell_type": "markdown",
   "metadata": {},
   "source": [
    "## 2.1 Python Warts"
   ]
  },
  {
   "cell_type": "markdown",
   "metadata": {},
   "source": [
    "* http://web.archive.org/web/20031002184114/www.amk.ca/python/writing/warts.html\n",
    "* \n",
    "* https://www.python.org/dev/peps/pep-3099/"
   ]
  },
  {
   "cell_type": "markdown",
   "metadata": {},
   "source": [
    "## 2.2 Scope of variables"
   ]
  },
  {
   "cell_type": "markdown",
   "metadata": {},
   "source": [
    "Is not always clear:"
   ]
  },
  {
   "cell_type": "code",
   "execution_count": 33,
   "metadata": {
    "collapsed": false
   },
   "outputs": [],
   "source": [
    "y = 0\n",
    "for x in range(10):\n",
    "    y = x"
   ]
  },
  {
   "cell_type": "code",
   "execution_count": 34,
   "metadata": {
    "collapsed": false
   },
   "outputs": [
    {
     "data": {
      "text/plain": [
       "9"
      ]
     },
     "execution_count": 34,
     "metadata": {},
     "output_type": "execute_result"
    }
   ],
   "source": [
    "x"
   ]
  },
  {
   "cell_type": "code",
   "execution_count": 35,
   "metadata": {
    "collapsed": false
   },
   "outputs": [
    {
     "data": {
      "text/plain": [
       "[10, 11, 12, 13, 14, 15, 16, 17, 18, 19]"
      ]
     },
     "execution_count": 35,
     "metadata": {},
     "output_type": "execute_result"
    }
   ],
   "source": [
    "[x for x in range(10, 20)]"
   ]
  },
  {
   "cell_type": "code",
   "execution_count": 36,
   "metadata": {
    "collapsed": false
   },
   "outputs": [
    {
     "data": {
      "text/plain": [
       "9"
      ]
     },
     "execution_count": 36,
     "metadata": {},
     "output_type": "execute_result"
    }
   ],
   "source": [
    "x"
   ]
  },
  {
   "cell_type": "markdown",
   "metadata": {},
   "source": [
    "## 2.3 Scope"
   ]
  },
  {
   "cell_type": "markdown",
   "metadata": {},
   "source": [
    "Python follows the LEGB Rule (after https://www.amazon.com/dp/0596513984/):\n",
    "\n",
    "* L, Local: Names assigned in any way within a function (def or lambda)), and not declared global in that function.\n",
    "* E, Enclosing function locals: Name in the local scope of any and all enclosing functions (def or lambda), from inner to outer.\n",
    "* G, Global (module): Names assigned at the top-level of a module file, or declared global in a def within the file.\n",
    "* B, Built-in (Python): Names preassigned in the built-in names module : open, range, SyntaxError,..."
   ]
  },
  {
   "cell_type": "code",
   "execution_count": 37,
   "metadata": {
    "collapsed": false
   },
   "outputs": [],
   "source": [
    "x = 3\n",
    "def foo():\n",
    "    x=4\n",
    "    def bar():\n",
    "        print(x)  # Accesses x from foo's scope\n",
    "    bar()  # Prints 4\n",
    "    x=5\n",
    "    bar()  # Prints 5"
   ]
  },
  {
   "cell_type": "code",
   "execution_count": 38,
   "metadata": {
    "collapsed": false
   },
   "outputs": [
    {
     "name": "stdout",
     "output_type": "stream",
     "text": [
      "4\n",
      "5\n"
     ]
    }
   ],
   "source": [
    "foo()"
   ]
  },
  {
   "cell_type": "markdown",
   "metadata": {},
   "source": [
    "See [scope_resolution_legb_rule.ipynb](scope_resolution_legb_rule.ipynb) for some additional readings on scope."
   ]
  },
  {
   "cell_type": "markdown",
   "metadata": {},
   "source": [
    "## 2.4 Generators"
   ]
  },
  {
   "cell_type": "code",
   "execution_count": 39,
   "metadata": {
    "collapsed": true
   },
   "outputs": [],
   "source": [
    "def function():\n",
    "    for i in range(10):\n",
    "        yield i"
   ]
  },
  {
   "cell_type": "code",
   "execution_count": 40,
   "metadata": {
    "collapsed": false
   },
   "outputs": [
    {
     "data": {
      "text/plain": [
       "<generator object function at 0x7f44e6ff39e0>"
      ]
     },
     "execution_count": 40,
     "metadata": {},
     "output_type": "execute_result"
    }
   ],
   "source": [
    "function()"
   ]
  },
  {
   "cell_type": "code",
   "execution_count": 41,
   "metadata": {
    "collapsed": false
   },
   "outputs": [
    {
     "name": "stdout",
     "output_type": "stream",
     "text": [
      "0\n",
      "1\n",
      "2\n",
      "3\n",
      "4\n",
      "5\n",
      "6\n",
      "7\n",
      "8\n",
      "9\n"
     ]
    }
   ],
   "source": [
    "for y in function():\n",
    "    print(y)"
   ]
  },
  {
   "cell_type": "markdown",
   "metadata": {},
   "source": [
    "## 2.5 Default arguments"
   ]
  },
  {
   "cell_type": "code",
   "execution_count": 42,
   "metadata": {
    "collapsed": true
   },
   "outputs": [],
   "source": [
    "def do_something(a, b, c):\n",
    "    return (a, b, c)"
   ]
  },
  {
   "cell_type": "code",
   "execution_count": 43,
   "metadata": {
    "collapsed": false
   },
   "outputs": [
    {
     "data": {
      "text/plain": [
       "(1, 2, 3)"
      ]
     },
     "execution_count": 43,
     "metadata": {},
     "output_type": "execute_result"
    }
   ],
   "source": [
    "do_something(1, 2, 3)"
   ]
  },
  {
   "cell_type": "code",
   "execution_count": 44,
   "metadata": {
    "collapsed": true
   },
   "outputs": [],
   "source": [
    "def do_something_else(a=1, b=2, c=3):\n",
    "    return (a, b, c)"
   ]
  },
  {
   "cell_type": "code",
   "execution_count": 45,
   "metadata": {
    "collapsed": false
   },
   "outputs": [
    {
     "data": {
      "text/plain": [
       "(1, 2, 3)"
      ]
     },
     "execution_count": 45,
     "metadata": {},
     "output_type": "execute_result"
    }
   ],
   "source": [
    "do_something_else()"
   ]
  },
  {
   "cell_type": "code",
   "execution_count": 46,
   "metadata": {
    "collapsed": true
   },
   "outputs": [],
   "source": [
    "def some_function(start=[]):\n",
    "    start.append(1)\n",
    "    return start"
   ]
  },
  {
   "cell_type": "code",
   "execution_count": 47,
   "metadata": {
    "collapsed": true
   },
   "outputs": [],
   "source": [
    "result = some_function()"
   ]
  },
  {
   "cell_type": "code",
   "execution_count": 48,
   "metadata": {
    "collapsed": false
   },
   "outputs": [
    {
     "data": {
      "text/plain": [
       "[1]"
      ]
     },
     "execution_count": 48,
     "metadata": {},
     "output_type": "execute_result"
    }
   ],
   "source": [
    "result"
   ]
  },
  {
   "cell_type": "code",
   "execution_count": 49,
   "metadata": {
    "collapsed": true
   },
   "outputs": [],
   "source": [
    "result.append(2)"
   ]
  },
  {
   "cell_type": "code",
   "execution_count": 50,
   "metadata": {
    "collapsed": true
   },
   "outputs": [],
   "source": [
    "other_result = some_function()"
   ]
  },
  {
   "cell_type": "code",
   "execution_count": 51,
   "metadata": {
    "collapsed": false
   },
   "outputs": [
    {
     "data": {
      "text/plain": [
       "[1, 2, 1]"
      ]
     },
     "execution_count": 51,
     "metadata": {},
     "output_type": "execute_result"
    }
   ],
   "source": [
    "other_result"
   ]
  },
  {
   "cell_type": "markdown",
   "metadata": {},
   "source": [
    "## 3.2 List comprehension"
   ]
  },
  {
   "cell_type": "markdown",
   "metadata": {},
   "source": [
    "\"List comprehension\" is the idea of writing some code inside of a list that will generate a list.\n",
    "\n",
    "Consider the following:"
   ]
  },
  {
   "cell_type": "code",
   "execution_count": 52,
   "metadata": {
    "collapsed": false
   },
   "outputs": [
    {
     "data": {
      "text/plain": [
       "[0, 1, 4, 9, 16, 25, 36, 49, 64, 81]"
      ]
     },
     "execution_count": 52,
     "metadata": {},
     "output_type": "execute_result"
    }
   ],
   "source": [
    "[x ** 2 for x in range(10)]"
   ]
  },
  {
   "cell_type": "code",
   "execution_count": 53,
   "metadata": {
    "collapsed": false
   },
   "outputs": [
    {
     "data": {
      "text/plain": [
       "[0, 1, 4, 9, 16, 25, 36, 49, 64, 81]"
      ]
     },
     "execution_count": 53,
     "metadata": {},
     "output_type": "execute_result"
    }
   ],
   "source": [
    "temp_list = []\n",
    "for x in range(10):\n",
    "    temp_list.append(x ** 2)\n",
    "temp_list"
   ]
  },
  {
   "cell_type": "markdown",
   "metadata": {},
   "source": [
    "But list comprehension is much more concise."
   ]
  },
  {
   "cell_type": "markdown",
   "metadata": {},
   "source": [
    "## 3.3 Plotting"
   ]
  },
  {
   "cell_type": "code",
   "execution_count": 54,
   "metadata": {
    "collapsed": true
   },
   "outputs": [],
   "source": [
    "%matplotlib widget"
   ]
  },
  {
   "cell_type": "markdown",
   "metadata": {},
   "source": [
    "After the magic, we then need to import the matplotlib library:"
   ]
  },
  {
   "cell_type": "code",
   "execution_count": 55,
   "metadata": {
    "collapsed": true
   },
   "outputs": [],
   "source": [
    "import matplotlib.pyplot as plt"
   ]
  },
  {
   "cell_type": "markdown",
   "metadata": {},
   "source": [
    "Python has many, many libraries. We will use a few over the course of the semester.\n",
    "\n",
    "To create a simple line plot, just give a list of y-values to the function plt.plot()."
   ]
  },
  {
   "cell_type": "code",
   "execution_count": 56,
   "metadata": {
    "collapsed": true
   },
   "outputs": [
    {
     "data": {
      "text/plain": [
       "[<matplotlib.lines.Line2D at 0x7f44bed74b80>]"
      ]
     },
     "execution_count": 56,
     "metadata": {},
     "output_type": "execute_result"
    },
    {
     "data": {
      "application/vnd.jupyter.widget-view+json": {
       "model_id": "d7989469cce24e6f8e65d5c08342d993",
       "version_major": 2,
       "version_minor": 0
      },
      "image/png": "[encoded data removed]",
      "text/html": [
       "\n",
       "            <div style=\"display: inline-block;\">\n",
       "                <div class=\"jupyter-widgets widget-label\" style=\"text-align: center;\">\n",
       "                    Figure\n",
       "                </div>\n",
       "                <img src='data:image/png;base64,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' width=640.0/>\n",
       "            </div>\n",
       "        "
      ],
      "text/plain": [
       "Canvas(toolbar=Toolbar(toolitems=[('Home', 'Reset original view', 'home', 'home'), ('Back', 'Back to previous …"
      ]
     },
     "metadata": {},
     "output_type": "display_data"
    }
   ],
   "source": [
    "plt.plot([5, 8, 2, 6, 1, 8, 2, 3, 4, 5, 6])"
   ]
  },
  {
   "cell_type": "markdown",
   "metadata": {},
   "source": [
    "But you should never create a plot that doesn't have labels on the x and y axises, and should always have a title. Read the documentation on matplotlib and add labels and a title to the plot above:\n",
    "\n",
    "http://matplotlib.org/api/pyplot_api.html\n",
    "\n",
    "Another commonly used library (especially with matplotlib is numpy). Often imported as:"
   ]
  },
  {
   "attachments": {},
   "cell_type": "markdown",
   "metadata": {
    "cell_id": "c51f90f2cfc846deafb25a77f5691754",
    "deepnote_cell_type": "markdown"
   },
   "source": [
    "# 4. Object Oriented Programming (OOP)"
   ]
  },
  {
   "cell_type": "markdown",
   "metadata": {
    "cell_id": "697d9e5a8af947db8b2f7a6701d0c4ba",
    "deepnote_cell_type": "markdown"
   },
   "source": [
    "Classes in Python\n",
    "--"
   ]
  },
  {
   "cell_type": "markdown",
   "metadata": {
    "cell_id": "a6181301cc764947837df955b9f54b7f",
    "deepnote_cell_type": "markdown"
   },
   "source": [
    "The minimal class in Python is:"
   ]
  },
  {
   "cell_type": "code",
   "execution_count": 57,
   "metadata": {
    "cell_id": "d261174059894060addffac24dc8f3f6",
    "collapsed": false,
    "deepnote_cell_type": "code"
   },
   "outputs": [],
   "source": [
    "class Atom():\n",
    "    pass"
   ]
  },
  {
   "cell_type": "markdown",
   "metadata": {
    "cell_id": "d4ef8b704f5b45b6a6de2535e4728a59",
    "deepnote_cell_type": "markdown"
   },
   "source": [
    "Classes are used to create objects that will be how the logic of the software programa is implemented."
   ]
  },
  {
   "cell_type": "code",
   "execution_count": 58,
   "metadata": {
    "cell_id": "ae413ff3e9294504a08c932fad8770c1",
    "collapsed": false,
    "deepnote_cell_type": "code"
   },
   "outputs": [],
   "source": [
    "atom = Atom()"
   ]
  },
  {
   "cell_type": "markdown",
   "metadata": {
    "cell_id": "b2005cc8baba4e1a9b361d86e1cfe9d1",
    "deepnote_cell_type": "markdown"
   },
   "source": [
    "In this sample, the class does not receive any kind of configuration (params). Objects are created normally using params, which define the initial state of the object. In this example, a Carbon object is created with 6 electrons and 6 protons."
   ]
  },
  {
   "cell_type": "code",
   "execution_count": 59,
   "metadata": {
    "cell_id": "35e48e7ee4a84854a02dd95bd53f123b",
    "collapsed": false,
    "deepnote_cell_type": "code"
   },
   "outputs": [],
   "source": [
    "class Atom():\n",
    "    def __init__(self, electrons, protons):\n",
    "        self.electrons = electrons\n",
    "        self.protons = protons\n",
    "\n",
    "carbon = Atom(electrons = 6, protons = 6)"
   ]
  },
  {
   "cell_type": "markdown",
   "metadata": {
    "cell_id": "b28575f5a6e1499ba6164ecdd1472d25",
    "deepnote_cell_type": "markdown"
   },
   "source": [
    "To create a new Object using initial params, a special method must be defined in the Class: `__init__`. This method will be called automatically when the object is created, and the params used in the object creation are passed to this init method.\n",
    "\n",
    "The first param of the `__init__` methods, and the first param in all the methods of a class, is the param `self`. This param represent the current object in which the method is called.\n",
    "\n",
    "To add features to a class, new methods are added. These are normal python methods that have as the first param the `self` variable, pointing to the object in which the method was called.\n",
    "\n",
    "Let's add two new methods to the Atom class to query the electrons and protons numbers for an atom."
   ]
  },
  {
   "cell_type": "code",
   "execution_count": 60,
   "metadata": {
    "cell_id": "6bfb10bc0b0f48ec95043f65bfbc9bc6",
    "collapsed": false,
    "deepnote_cell_type": "code"
   },
   "outputs": [
    {
     "name": "stdout",
     "output_type": "stream",
     "text": [
      "The carbon atom has 6 electrons\n",
      "The carbon atom has 6 protons\n"
     ]
    }
   ],
   "source": [
    "class Atom():\n",
    "    def __init__(self, electrons, protons):\n",
    "        self.electrons = electrons\n",
    "        self.protons = protons\n",
    "\n",
    "    def get_electrons(self):\n",
    "        return self.electrons\n",
    "\n",
    "    def get_protons(self):\n",
    "        return self.protons\n",
    "\n",
    "carbon = Atom(electrons = 6, protons = 6)\n",
    "print(\"The carbon atom has %i electrons\" % carbon.get_electrons())\n",
    "print(\"The carbon atom has %i protons\" % carbon.get_electrons())"
   ]
  },
  {
   "cell_type": "markdown",
   "metadata": {
    "cell_id": "4d7997bfd8c24a3e9b2c9d1a7b67378c",
    "deepnote_cell_type": "markdown"
   },
   "source": [
    "Inheritance\n",
    "--"
   ]
  },
  {
   "cell_type": "markdown",
   "metadata": {
    "cell_id": "8c01e52f53dd47b6b031a738ef6314f2",
    "deepnote_cell_type": "markdown"
   },
   "source": [
    "A class could be defined reusing (specializing) another class (its base class). Let's create a new class to work specifically with Carbon atoms."
   ]
  },
  {
   "cell_type": "code",
   "execution_count": 61,
   "metadata": {
    "cell_id": "46f020762b8d441bafb54ff6b2df82a5",
    "collapsed": false,
    "deepnote_cell_type": "code"
   },
   "outputs": [
    {
     "name": "stdout",
     "output_type": "stream",
     "text": [
      "The carbon atom has 6 electrons\n",
      "The carbon atom has 6 protons\n"
     ]
    }
   ],
   "source": [
    "class Carbon(Atom):\n",
    "    def __init__(self):\n",
    "        self.electrons = 6\n",
    "        self.protons = 6\n",
    "    \n",
    "carbon = Carbon()\n",
    "print(\"The carbon atom has %i electrons\" % carbon.get_electrons())\n",
    "print(\"The carbon atom has %i protons\" % carbon.get_electrons())"
   ]
  },
  {
   "cell_type": "markdown",
   "metadata": {
    "cell_id": "fc879a9ef2f144a8993516ba4b68f89d",
    "deepnote_cell_type": "markdown"
   },
   "source": [
    "The new Carbon class is an specilization of the base class Atom. It already know the numbers of electrons and protons, so they are not needed in the init params. And all the methods included in the base Atom base class, are also available in this new class.\n",
    "\n",
    "The Carbon class can redefine the methods from the base class. In the above sample, it just redefines the `__init__` method, but the rest of methods are used as they are in the Atom base class (get_electrons and get_protons).\n",
    "\n",
    "In this way, a selective reuse of code can be implemented. And new methods can be added to complete the behaviour needed for a class.\n",
    "\n",
    "The Carbon atom has 11 isotopes but the most common is Carbon12, that it has 6 neutrons in the atom's nucleus.\n",
    "\n",
    "A new class can be defined to represent this Carnon12 isotope."
   ]
  },
  {
   "cell_type": "code",
   "execution_count": 62,
   "metadata": {
    "cell_id": "f3378195dbe1440298db32121087ed1e",
    "collapsed": false,
    "deepnote_cell_type": "code"
   },
   "outputs": [],
   "source": [
    "class Carbon12(Carbon):\n",
    "    def __init__(self):\n",
    "        self.electrons = 6\n",
    "        self.protons = 6\n",
    "        self.neutrons = 6"
   ]
  },
  {
   "cell_type": "markdown",
   "metadata": {
    "cell_id": "45705201faa943e3a143d86aef9b4c75",
    "deepnote_cell_type": "markdown"
   },
   "source": [
    "All the atoms have neutrons in the nucleus, so this param must be also added to the class Atom that models what an Atom is. And also, a method to get the value. In this way, it is not needed to create a new class for each isotope because this information can be stored in the Atom class directly.\n",
    "\n",
    "Using this approach the new class Atom is:"
   ]
  },
  {
   "cell_type": "code",
   "execution_count": 63,
   "metadata": {
    "cell_id": "129968bf3adf42f8aa4dde2a95c7bc0f",
    "collapsed": false,
    "deepnote_cell_type": "code"
   },
   "outputs": [],
   "source": [
    "class Atom():\n",
    "    def __init__(self, electrons, protons, neutrons):\n",
    "        self.electrons = electrons\n",
    "        self.protons = protons\n",
    "        self.neutrons = neutrons\n",
    "\n",
    "    def get_electrons(self):\n",
    "        return self.electrons\n",
    "\n",
    "    def get_protons(self):\n",
    "        return self.protons\n",
    "\n",
    "    def get_neutrons(self):\n",
    "        return self.neutrons\n",
    "\n",
    "class Carbon(Atom):\n",
    "    def __init__(self, neutrons=6):\n",
    "        self.electrons = 6\n",
    "        self.protons = 6\n",
    "        self.neutrons = neutrons"
   ]
  },
  {
   "cell_type": "markdown",
   "metadata": {
    "cell_id": "d09ae091d484400c9f181b6732500eca",
    "deepnote_cell_type": "markdown"
   },
   "source": [
    "Now, Atoms by default are created with 6 neutrons, like Carbon12. So this is the default isotope generated when creating new Atoms. But this value can be chnaged just passing a different value in the constructor."
   ]
  },
  {
   "cell_type": "code",
   "execution_count": 64,
   "metadata": {
    "cell_id": "8d0afe69b99743558f9571e110cb0ce3",
    "collapsed": false,
    "deepnote_cell_type": "code"
   },
   "outputs": [
    {
     "name": "stdout",
     "output_type": "stream",
     "text": [
      "7\n"
     ]
    }
   ],
   "source": [
    "carbon13 = Carbon(neutrons=7)\n",
    "print(carbon13.get_neutrons())"
   ]
  },
  {
   "cell_type": "markdown",
   "metadata": {
    "cell_id": "ca06a2b11e924f7b918b907441912415",
    "deepnote_cell_type": "markdown"
   },
   "source": [
    "Class Static Methods and Variables\n",
    "--\n",
    "\n",
    "Analyzing the Carbon class, the number or electros and protons is always the same, no matter what is the carbon isotope object we are creating. So this data is not object specific but class specific. All the objects created from this Carbon class will have the same values for electros and protons.\n",
    "\n",
    "To these variables that are related to the class, and that are not defined per object, we call the **static variables**. They are declared at class level in this way:"
   ]
  },
  {
   "cell_type": "code",
   "execution_count": 65,
   "metadata": {
    "cell_id": "8354ce64743147cdbbdb7cf838d194e7",
    "collapsed": false,
    "deepnote_cell_type": "code"
   },
   "outputs": [],
   "source": [
    "class Atom:\n",
    "    electrons = None\n",
    "    protons = None\n",
    "\n",
    "    def __init__(self, neutrons):\n",
    "        self.neutrons = neutrons\n",
    "\n",
    "    @classmethod\n",
    "    def get_electrons(self):\n",
    "        print(self)\n",
    "        return self.electrons\n",
    "\n",
    "    @classmethod\n",
    "    def get_protons(self):\n",
    "        return self.protons\n",
    "\n",
    "    def get_neutrons(self):\n",
    "        return self.neutrons\n",
    "\n",
    "\n",
    "class Carbon(Atom):\n",
    "    electrons = 6\n",
    "    protons = 6\n",
    "\n",
    "    def __init__(self, neutrons=6):\n",
    "        self.neutrons = neutrons\n"
   ]
  },
  {
   "cell_type": "markdown",
   "metadata": {
    "cell_id": "593445e85af541fb85d3685327fb36de",
    "deepnote_cell_type": "code"
   },
   "source": [
    "Along with the static variables, there are the static methods. These methods only need static variables from the class and other data not related with the object for this class. To use a static method, it is called using directly the class, so there is no need to create an object of the class."
   ]
  },
  {
   "cell_type": "code",
   "execution_count": 66,
   "metadata": {
    "cell_id": "1d7ead04ef0a454db74a8317a8bbcb4b",
    "collapsed": false,
    "deepnote_cell_type": "code"
   },
   "outputs": [
    {
     "name": "stdout",
     "output_type": "stream",
     "text": [
      "<class '__main__.Carbon'>\n",
      "6\n",
      "<class '__main__.Carbon'>\n",
      "6\n"
     ]
    }
   ],
   "source": [
    "carbon = Carbon()\n",
    "print(Carbon.get_electrons())\n",
    "print(carbon.get_electrons())\n"
   ]
  },
  {
   "cell_type": "markdown",
   "metadata": {
    "cell_id": "f8db8af1f2984047ad2e7a19feb61643",
    "deepnote_cell_type": "markdown"
   },
   "source": [
    "Private Methods\n",
    "--\n",
    "\n",
    "It is possible to declare as private methods from a class. These methods can not be used outside the definition of the class. And they are the key to enforce **encapsulation** of logic."
   ]
  },
  {
   "cell_type": "code",
   "execution_count": 67,
   "metadata": {
    "cell_id": "3f3a025bbddf45cfb3dc30488f486cae",
    "collapsed": false,
    "deepnote_cell_type": "code"
   },
   "outputs": [
    {
     "name": "stdout",
     "output_type": "stream",
     "text": [
      "Atom private method\n",
      "Atom private method\n"
     ]
    }
   ],
   "source": [
    "class Atom:\n",
    "    electrons = None\n",
    "    protons = None\n",
    "\n",
    "    def __init__(self, neutrons=None):\n",
    "        self.neutrons = neutrons\n",
    "        self._atom_private()\n",
    "\n",
    "    @classmethod\n",
    "    def get_electrons(self):\n",
    "        print(self)\n",
    "        return self.electrons\n",
    "\n",
    "    @classmethod\n",
    "    def get_protons(self):\n",
    "        return self.protons\n",
    "\n",
    "    def get_neutrons(self):\n",
    "        return self.neutrons\n",
    "\n",
    "    def _atom_private(self):\n",
    "        print(\"Atom private method\")\n",
    "\n",
    "\n",
    "class Carbon(Atom):\n",
    "    electrons = 6\n",
    "    protons = 6\n",
    "\n",
    "    def __init__(self, neutrons=6):\n",
    "        self.neutrons = neutrons\n",
    "        self._atom_private()\n",
    "\n",
    "\n",
    "atom = Atom()\n",
    "carbon = Carbon()\n"
   ]
  },
  {
   "cell_type": "markdown",
   "metadata": {},
   "source": [
    "<H1>References</H1>\n",
    "\n",
    "[1] https://en.wikipedia.org/wiki/History_of_Python"
   ]
  }
 ],
 "metadata": {
  "kernelspec": {
   "display_name": "holistics-workshop",
   "language": "python",
   "name": "python3"
  },
  "language_info": {
   "codemirror_mode": {
    "name": "ipython",
    "version": 3
   },
   "file_extension": ".py",
   "mimetype": "text/x-python",
   "name": "python",
   "nbconvert_exporter": "python",
   "pygments_lexer": "ipython3",
   "version": "3.9.16"
  },
  "vscode": {
   "interpreter": {
    "hash": "7fa40b19fd51f49cc48f840071f184241e37c8818c02d68d6f8318fbec6f7c32"
   }
  }
 },
 "nbformat": 4,
 "nbformat_minor": 0
}
