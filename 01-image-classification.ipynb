{
 "cells": [
  {
   "attachments": {},
   "cell_type": "markdown",
   "metadata": {},
   "source": [
    "# Train your image classifier"
   ]
  },
  {
   "attachments": {},
   "cell_type": "markdown",
   "metadata": {},
   "source": [
    "[![image](https://colab.research.google.com/assets/colab-badge.svg)](https://colab.research.google.com/github/hieultp/holistics-nlp-workshop/blob/main/01-image-classification.ipynb)\n",
    "\n",
    "Let's recap. To train your ~~dragon~~ AI model, you will need:\n",
    "- Prepare data\n",
    "- Define the model\n",
    "- Define the loss function\n",
    "- Train it!\n",
    "\n",
    "Okay, let's get started."
   ]
  },
  {
   "cell_type": "code",
   "execution_count": null,
   "metadata": {},
   "outputs": [],
   "source": [
    "! git clone https://github.com/hieultp/holistics-nlp-workshop\n",
    "cd holistics-nlp-workshop"
   ]
  },
  {
   "attachments": {},
   "cell_type": "markdown",
   "metadata": {},
   "source": [
    "## 1. Prepare dataset"
   ]
  },
  {
   "attachments": {},
   "cell_type": "markdown",
   "metadata": {},
   "source": [
    "Let's us prepare the dataset. We will use the MNIST dataset in this excercise.\n",
    "\n",
    "The MNIST dataset contains images of handwritten digit ranging from 0 to 9.\n",
    "\n",
    "We will have two seperated image sets. The first one is to used for training the model while the second one, considered unknown to the model, will be used as the test set."
   ]
  },
  {
   "cell_type": "code",
   "execution_count": null,
   "metadata": {},
   "outputs": [],
   "source": [
    "from torchvision.datasets import MNIST\n",
    "from torchvision.transforms import ToTensor"
   ]
  },
  {
   "cell_type": "code",
   "execution_count": null,
   "metadata": {},
   "outputs": [],
   "source": [
    "train_data = MNIST(root=\"./\", train=True, download=True)\n",
    "test_data = MNIST(root=\"./\", train=False, download=True)"
   ]
  },
  {
   "attachments": {},
   "cell_type": "markdown",
   "metadata": {},
   "source": [
    "Here `train_data` and `test_data` are a kind of generator that will give us a pair of (data, label) as we iterate through it.\n",
    "\n",
    "Let see what's inside these generator."
   ]
  },
  {
   "cell_type": "code",
   "execution_count": null,
   "metadata": {},
   "outputs": [],
   "source": [
    "train_data[0]"
   ]
  },
  {
   "attachments": {},
   "cell_type": "markdown",
   "metadata": {},
   "source": [
    "You can see that it is a `tuple` which contains two elements: the former is the input image, the latter is the ground truth corresponding to the input.\n",
    "\n",
    "Let's check the image then."
   ]
  },
  {
   "cell_type": "code",
   "execution_count": null,
   "metadata": {},
   "outputs": [],
   "source": [
    "img, label = train_data[0]"
   ]
  },
  {
   "cell_type": "code",
   "execution_count": null,
   "metadata": {},
   "outputs": [],
   "source": [
    "img"
   ]
  },
  {
   "attachments": {},
   "cell_type": "markdown",
   "metadata": {},
   "source": [
    "It's kinda small. Let's use a specialize library for visualization to visualize then."
   ]
  },
  {
   "cell_type": "code",
   "execution_count": null,
   "metadata": {},
   "outputs": [],
   "source": [
    "import matplotlib.pyplot as plt"
   ]
  },
  {
   "cell_type": "code",
   "execution_count": null,
   "metadata": {},
   "outputs": [],
   "source": [
    "plt.imshow(img)"
   ]
  },
  {
   "attachments": {},
   "cell_type": "markdown",
   "metadata": {},
   "source": [
    "Great, that digit sure looks like the number five!\n",
    "\n",
    "This looks good but unfortunately this is not the right format that Pytorch required. We need a little modification to convert the image above to the `Tensor` format so that we could use to train the model."
   ]
  },
  {
   "cell_type": "code",
   "execution_count": null,
   "metadata": {},
   "outputs": [],
   "source": [
    "train_data = MNIST(root=\"./\", train=True, download=True, transform=ToTensor())\n",
    "test_data = MNIST(root=\"./\", train=False, download=True, transform=ToTensor())"
   ]
  },
  {
   "cell_type": "code",
   "execution_count": null,
   "metadata": {},
   "outputs": [],
   "source": [
    "img, label = train_data[0]"
   ]
  },
  {
   "cell_type": "code",
   "execution_count": null,
   "metadata": {},
   "outputs": [],
   "source": [
    "img"
   ]
  },
  {
   "attachments": {},
   "cell_type": "markdown",
   "metadata": {},
   "source": [
    "This is the `Tensor` format of the above image compliant with Pytorch so that we could use to train our AI model."
   ]
  },
  {
   "attachments": {},
   "cell_type": "markdown",
   "metadata": {},
   "source": [
    "## 2. Define the model"
   ]
  },
  {
   "attachments": {},
   "cell_type": "markdown",
   "metadata": {},
   "source": [
    "There are two ways we could approach for this problem. We could make our model predict a **single** real number ranging from 0 to 9 (regression) or make the model predict what is the probability that the picture belongs to a certain class (classification).\n",
    "\n",
    "There's no need to rush. I have already defined the model for you ;) Let try to import it then.\n",
    "\n",
    "Try to fill in the missing code and initialize the model. You could try with different model, play around with it."
   ]
  },
  {
   "cell_type": "code",
   "execution_count": null,
   "metadata": {},
   "outputs": [],
   "source": [
    "from src.models import ClassificationModel, RegressionModel\n",
    "\n",
    "model = ..."
   ]
  },
  {
   "attachments": {},
   "cell_type": "markdown",
   "metadata": {},
   "source": [
    "Let's check our model, run the line below."
   ]
  },
  {
   "cell_type": "code",
   "execution_count": null,
   "metadata": {},
   "outputs": [],
   "source": [
    "model"
   ]
  },
  {
   "attachments": {},
   "cell_type": "markdown",
   "metadata": {},
   "source": [
    "Cool, let's define the loss function and we're ready to go."
   ]
  },
  {
   "attachments": {},
   "cell_type": "markdown",
   "metadata": {},
   "source": [
    "## 3. Define the loss function"
   ]
  },
  {
   "cell_type": "code",
   "execution_count": null,
   "metadata": {},
   "outputs": [],
   "source": [
    "import torch.nn as nn"
   ]
  },
  {
   "attachments": {},
   "cell_type": "markdown",
   "metadata": {},
   "source": [
    "Depends on the type of model, we have to choose an appropriate type of the loss function for it. Of course you could go wild and try something new.\n",
    "\n",
    "But following the convention usually for the *regression model*, we would pair it with *mean squared error* loss function. And for the *classification model*, we will have *cross-entropy* loss for it."
   ]
  },
  {
   "cell_type": "code",
   "execution_count": null,
   "metadata": {},
   "outputs": [],
   "source": [
    "# loss_fn = nn.CrossEntropyLoss()\n",
    "# loss_fn = nn.MSELoss()"
   ]
  },
  {
   "attachments": {},
   "cell_type": "markdown",
   "metadata": {},
   "source": [
    "## 4. Train it"
   ]
  },
  {
   "attachments": {},
   "cell_type": "markdown",
   "metadata": {},
   "source": [
    "It's timeeeee.\n",
    "\n",
    "I have abstract the training step for you, but feel free to check the source code for more details. In the mean time, just run the two lines below and then check the performance of the model."
   ]
  },
  {
   "attachments": {},
   "cell_type": "markdown",
   "metadata": {},
   "source": [
    "<div>\n",
    "<img src=\"https://i.kym-cdn.com/entries/icons/original/000/018/147/Shia_LaBeouf__Just_Do_It__Motivational_Speech_(Original_Video_by_LaBeouf__R%C3%B6nkk%C3%B6___Turner)_0-4_screenshot.png\" width=\"600\"/>\n",
    "</div>"
   ]
  },
  {
   "cell_type": "code",
   "execution_count": null,
   "metadata": {},
   "outputs": [],
   "source": [
    "from src.train import train\n",
    "\n",
    "model = train(model, loss_fn, train_data, test_data, num_epochs=10)"
   ]
  },
  {
   "attachments": {},
   "cell_type": "markdown",
   "metadata": {},
   "source": [
    "## 5. Test it"
   ]
  },
  {
   "attachments": {},
   "cell_type": "markdown",
   "metadata": {},
   "source": [
    "Great, now that you have your model trained (and hopefully the performance on the test set does no bad).\n",
    "\n",
    "Let's test it. Run the three cells below and draw any numbers then see if your model could guess it or not.\n",
    "\n",
    "Then feel free to go back and play around with the loss function, the model to see whether you could improve the model performance or not."
   ]
  },
  {
   "cell_type": "code",
   "execution_count": null,
   "metadata": {},
   "outputs": [],
   "source": [
    "!pip install -q gradio\n",
    "\n",
    "import torch\n",
    "import gradio as gr"
   ]
  },
  {
   "cell_type": "code",
   "execution_count": null,
   "metadata": {},
   "outputs": [],
   "source": [
    "device = torch.device(\"cuda\" if torch.cuda.is_available() else \"cpu\")\n",
    "model.eval()"
   ]
  },
  {
   "cell_type": "code",
   "execution_count": null,
   "metadata": {},
   "outputs": [],
   "source": [
    "def inference(image):\n",
    "    try:\n",
    "        image = torch.from_numpy(image).reshape(1, 1, 28, 28).to(device, dtype=torch.float32) / 255\n",
    "    except Exception:\n",
    "        image = torch.zeros(1, 1, 28, 28, dtype=torch.float32, device=device)\n",
    "    prediction = model(image).softmax(1).squeeze()\n",
    "    return {str(i): prediction[i].item() for i in range(10)}\n",
    "\n",
    "gr.Interface(\n",
    "    fn=inference,\n",
    "    inputs=\"sketchpad\",\n",
    "    outputs=gr.outputs.Label(num_top_classes=3),\n",
    "    live=True,\n",
    "    css=\".footer {display:none !important}\",\n",
    "    title=\"MNIST Sketchpad\",\n",
    "    description=\"Draw a number 0 through 9 on the sketchpad, and see predictions in real time.\",\n",
    "    thumbnail=\"https://raw.githubusercontent.com/gradio-app/real-time-mnist/master/thumbnail2.png\"\n",
    ").launch()\n"
   ]
  },
  {
   "attachments": {},
   "cell_type": "markdown",
   "metadata": {},
   "source": [
    "That's all for this notebook. Thank you for staying until this end ;)"
   ]
  }
 ],
 "metadata": {
  "kernelspec": {
   "display_name": "holistics-workshop",
   "language": "python",
   "name": "python3"
  },
  "language_info": {
   "codemirror_mode": {
    "name": "ipython",
    "version": 3
   },
   "file_extension": ".py",
   "mimetype": "text/x-python",
   "name": "python",
   "nbconvert_exporter": "python",
   "pygments_lexer": "ipython3",
   "version": "3.9.16"
  },
  "orig_nbformat": 4,
  "vscode": {
   "interpreter": {
    "hash": "7fa40b19fd51f49cc48f840071f184241e37c8818c02d68d6f8318fbec6f7c32"
   }
  }
 },
 "nbformat": 4,
 "nbformat_minor": 2
}
